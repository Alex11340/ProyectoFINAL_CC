{
 "cells": [
  {
   "cell_type": "markdown",
   "id": "005fa6bf-1174-43e6-9371-ed796b5cfee4",
   "metadata": {},
   "source": [
    "<table style=\"background-color: transparent;\">\n",
    "    <tr style=\"background-color: transparent; text-align:center;\">\n",
    "        <td width=\"100%\" align=\"center\"><font size=\"7\" color=\"#f25625\">Computación Cuántica</font></td>\n",
    "    </tr>\n",
    "    <tr style=\"background-color: transparent; text-align:center;\">\n",
    "        <td width=\"100%\"><font size=\"4\" color=\"black\">Temas Selectos de Ingeniería en Computación III</font></td>\n",
    "    </tr>\n",
    "     <tr style=\"background-color: transparent; text-align:center;\">\n",
    "        <td width=\"100%\"><font size=\"4\" color=\"black\">- Martínez Jiménez María Fernanda</font></td>\n",
    "    </tr>\n",
    "    <tr style=\"background-color: transparent; text-align:center;\">\n",
    "        <td width=\"100%\"><font size=\"4\" color=\"black\">- Maya Herrera Alexis Daniel</font></td>\n",
    "    </tr>\n",
    "    <tr style=\"background-color: transparent; text-align:center;\">\n",
    "        <td width=\"100%\"><font size=\"4\" color=\"black\">- Nava Cruz Alejandro</font></td>\n",
    "    </tr>\n",
    "     <tr style=\"background-color: transparent; text-align:center;\">\n",
    "        <td width=\"100%\"><font size=\"4\" color=\"black\">Fecha de entrega: 5 de diciembre de 2024</font></td>\n",
    "    </tr>\n",
    "    <tr style=\"background-color: transparent; text-align:center;\">\n",
    "        <td width=\"100%\"><font size=\"4\" color=\"black\">2025-1</font></td>\n",
    "    </tr>\n",
    "    <tr style=\"background-color: transparent; text-align:center;\">\n",
    "        <td width=\"100%\"><font size=\"6\" color=\"#f25625\">Aplicación de conocimientos (Proyecto Final)</font></td>\n",
    "    </tr>\n",
    "</table>"
   ]
  },
  {
   "cell_type": "markdown",
   "id": "8145f954-a04f-4fca-b71a-2c5099bec9a4",
   "metadata": {},
   "source": [
    "<p style=\"text-align:right; font-weight:bold;\">Autores: Martínez Jiménez María Fernanda, Maya Herrera Alexis Daniel y Nava Cruz Alejandro</p>\n",
    "<p style=\"text-align:right; font-weight:bold;\">Basado en los Notebooks de Claudia Zendejas-Morales</p>\n"
   ]
  },
  {
   "cell_type": "markdown",
   "id": "bc175df5-a719-4389-a566-ba395ca82dc9",
   "metadata": {},
   "source": [
    "1. Optimización de rutas para una empresa de entregas\n",
    "    - Descripción:\n",
    "\n",
    "        Una de las problemáticas más importantes para las empresas de paquetería es la optimización de las rutas de sus repartidores, entre más eficientes sean estas, más pueden reducir sus costos.\n",
    "        Usa el algoritmo de Grover para resolver esta problemática de manera cuántica, aprovecha el planteamiento del problema de optimización del vendedor viajero (TSP, Traveling Salesman Problem), para encontrar la ruta más óptima para un repartidor que trabaja en un servicio de mensajería.\n",
    "        Resuelve el desafío de manera clásica y luego haz una comparación con tu solución cuántica, ¿hubo alguna mejora?, explica las diferencias observadas, identificando las razones detrás de los resultados.\n",
    "      \n",
    "    - Consejos para la solución:\n",
    "  \n",
    "        Asegúrate de comprender el problema TSP para implementar una solución clásica efectiva, facilitando así la comparación con el enfoque cuántico. Define los parámetros dentro de las capacidades de una computadora cuántica actual, recuerda que estamos en la era NISQ. Utiliza datos realistas, por ejemplo, coordenadas de puntos de entrega reales obtenidas de Google Maps para configurar el problema de manera práctica.\n"
   ]
  },
  {
   "cell_type": "markdown",
   "id": "32cbf741-a91a-4d2f-8136-8de46bef70da",
   "metadata": {},
   "source": [
    "<div class=\"alert alert-block alert-info\">\n",
    "\n",
    "A. Empiezo con la ejecucion de la celda ofuscada y posteriormente la asigno para poder dibujarla"
   ]
  },
  {
   "cell_type": "code",
   "execution_count": 18,
   "id": "449e8f45-0cb9-405f-a634-96827542e7d5",
   "metadata": {},
   "outputs": [
    {
     "name": "stdout",
     "output_type": "stream",
     "text": [
      "Ruta más óptima clásica: ('A', 'B', 'E', 'C', 'D')\n",
      "Distancia mínima clásica: 20.66870889583003\n"
     ]
    }
   ],
   "source": [
    "import itertools\n",
    "import numpy as np\n",
    "\n",
    "#Coordenadas de los puntos de entrega (obtenidas de un mapa, que es simulado a partir de un plano cartesiano)\n",
    "locations = {\n",
    "    \"A\": (0, 0),\n",
    "    \"B\": (1, 3),\n",
    "    \"C\": (4, 3),\n",
    "    \"D\": (6, 1),\n",
    "    \"E\": (3, 7)#,\n",
    "    #\"F\": (7, 2),\n",
    "    #\"G\": (1, 2),\n",
    "    #\"H\": (4, 8),\n",
    "    #\"I\": (2, 7)\n",
    "}\n",
    "\n",
    "# Calcular distancia euclidiana entre dos puntos\n",
    "def distance(point1, point2):\n",
    "    return np.sqrt((point1[0] - point2[0])**2 + (point1[1] - point2[1])**2)\n",
    "\n",
    "#Resolver TSP por fuerza bruta\n",
    "def tsp_brute_force(locations):\n",
    "    cities = list(locations.keys())\n",
    "    best_route = None\n",
    "    min_distance = float('inf')\n",
    "    \n",
    "    for perm in itertools.permutations(cities):\n",
    "        total_distance = 0\n",
    "        for i in range(len(perm) - 1):\n",
    "            total_distance += distance(locations[perm[i]], locations[perm[i+1]])\n",
    "        # Agregar distancia de regreso al punto inicial\n",
    "        total_distance += distance(locations[perm[-1]], locations[perm[0]])\n",
    "        \n",
    "        if total_distance < min_distance:\n",
    "            min_distance = total_distance\n",
    "            best_route = perm\n",
    "    \n",
    "    return best_route, min_distance\n",
    "\n",
    "#Resolver el problema clasico\n",
    "route, min_dist = tsp_brute_force(locations)\n",
    "print(\"Ruta más óptima clásica:\", route)\n",
    "print(\"Distancia mínima clásica:\", min_dist)\n"
   ]
  },
  {
   "cell_type": "markdown",
   "id": "0fc6b732-31f1-4835-bb0b-6695de405178",
   "metadata": {},
   "source": [
    "<div class=\"alert alert-block alert-info\">\n",
    "\n",
    "B. Primero se crea un circuito de 6 qubits con 5 bits clasicos. Como lo marca el ejercicio, el bit mas a la izquierda será el auxiliar y se aplica la definicion completa del algoritmo de Bernstein - Vazirani, aplicando una compuerta X al auxiliar y posteriormente la compuerta Hadamard a todos los qubits, para posteriomente agregar nuestro codigo ofuscado que en este caso se trata de nuestro oráculo, para esto fue necesario utilizar el metodo compose(), para finalmente aplicar hadamard nuevamente y realizar las mediciones correspondientes."
   ]
  },
  {
   "cell_type": "markdown",
   "id": "aac4b823-57c6-4c8c-a5e3-3cf767324ac8",
   "metadata": {},
   "source": [
    "<div class=\"alert alert-block alert-info\">\n",
    "\n",
    "C. Para la simulación, utilizamos BasicSimulator y apliqué el ejemplo visto en el notebook de la práctica 5, por lo que tenemos que:"
   ]
  },
  {
   "cell_type": "markdown",
   "id": "2fc6c864-e4de-4b68-8155-eabf924a30bd",
   "metadata": {},
   "source": [
    "<div class=\"alert alert-block alert-info\">\n",
    "\n",
    "D. Gracias a la ejecución de nuestro algoritmo y a la simulación, y considerando el hecho de que el el qubit de la izquierda es el auxiliar (la cadena de bits se lee de derecha a izquierda), podemos concluir que la cadena oculta 's' es: **11010** "
   ]
  },
  {
   "cell_type": "markdown",
   "id": "c6699963-b0c7-479a-b9fb-ad9899033642",
   "metadata": {},
   "source": [
    "--------------------------------------------------------------------------------------------------------------------------------------------------------"
   ]
  },
  {
   "cell_type": "markdown",
   "id": "9ee43555-6a54-4d87-8856-336c62142fbb",
   "metadata": {},
   "source": [
    "<div class=\"alert alert-block alert-info\">\n",
    "\n",
    "A. Realizando una investigación para la aplicación del problema, se determinó una definicion de las soluciones buscadas (los elementos $|01100\\rangle$, $|11001\\rangle$ y $|01010\\rangle$.), y posteriormente se implemento el oraculo y el operador de difusion, como se muestra a continuación:"
   ]
  },
  {
   "cell_type": "markdown",
   "id": "0d3e037f-6065-4497-b0d5-6c8abaec5268",
   "metadata": {},
   "source": [
    "<div class=\"alert alert-block alert-info\">\n",
    "\n",
    "B-C-D. Aqui es donde se aplica la definición del circuito de grover. Tambien se aplica la definicion vista en el notebook para determinar el numero total de iteraciones que se debe utilizar, el cual utilizamos para realizar nuevamente un compose en nuestro circuito, aplicando tanto el oraculo como el operador de difusion, "
   ]
  },
  {
   "cell_type": "markdown",
   "id": "5a617025-dfd6-4f8d-9af1-250e086530e5",
   "metadata": {},
   "source": [
    "--------------------------------------------------------------------------------------------------------------------------------------------------------"
   ]
  },
  {
   "cell_type": "markdown",
   "id": "18a5ed17-440c-449e-a83f-b03ab6088257",
   "metadata": {},
   "source": [
    "**CONCLUSIÓN:** "
   ]
  },
  {
   "cell_type": "code",
   "execution_count": null,
   "id": "c46d0a20-e8ac-40a4-8cf0-f126ab3c8b0d",
   "metadata": {},
   "outputs": [],
   "source": []
  }
 ],
 "metadata": {
  "kernelspec": {
   "display_name": "Python 3 (ipykernel)",
   "language": "python",
   "name": "python3"
  },
  "language_info": {
   "codemirror_mode": {
    "name": "ipython",
    "version": 3
   },
   "file_extension": ".py",
   "mimetype": "text/x-python",
   "name": "python",
   "nbconvert_exporter": "python",
   "pygments_lexer": "ipython3",
   "version": "3.12.4"
  }
 },
 "nbformat": 4,
 "nbformat_minor": 5
}
